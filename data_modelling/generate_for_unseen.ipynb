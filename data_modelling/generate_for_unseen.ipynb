{
 "cells": [
  {
   "cell_type": "markdown",
   "metadata": {},
   "source": [
    "**For some unseen locations expected counts are generated based on vehicles entering and leaving another location.** \\\n",
    "These generated dataset is used to train models for predicting turning movement counts for some of unseen locations."
   ]
  },
  {
   "cell_type": "markdown",
   "metadata": {},
   "source": [
    "### Importing dependencies"
   ]
  },
  {
   "cell_type": "code",
   "execution_count": 1,
   "metadata": {},
   "outputs": [],
   "source": [
    "import os\n",
    "from pathlib import Path\n",
    "import pandas as pd\n",
    "import numpy as np"
   ]
  },
  {
   "cell_type": "markdown",
   "metadata": {},
   "source": [
    "## Buddha_Vihara_Temple\n",
    "\n",
    "Expected counts are generated for this location based on vehicles entering and leaving camera id \"Stn_HD_1\""
   ]
  },
  {
   "cell_type": "code",
   "execution_count": 20,
   "metadata": {},
   "outputs": [],
   "source": [
    "def generate_for_datetime(df_path: str) -> pd.DataFrame:\n",
    "    \"\"\"\n",
    "    Generate a DataFrame containing counts for a specific datetime.\n",
    "\n",
    "    Parameters:\n",
    "    df_path (str): The path to the CSV file containing the mobility data.\n",
    "\n",
    "    Returns:\n",
    "    pd.DataFrame: A DataFrame containing the mobility counts for the specified datet time.\n",
    "    \"\"\"\n",
    "    \n",
    "    df = pd.read_csv(df_path)\n",
    "    # Handling some edge cases\n",
    "    if df.empty:\n",
    "        return None\n",
    "    try:\n",
    "        df[\"count\"] = df[\"count\"].astype(int)\n",
    "    except KeyError:\n",
    "        df.columns =[\"time_stamp\",\"zone_in\",\"zone_out\",\"class\",\"count\"]\n",
    "    time_stamp = df[\"time_stamp\"].iloc[0]\n",
    "    df_out = df.loc[(df[\"zone_out\"] == 4) | (df[\"zone_out\"] == 5)]\n",
    "    df_in = df.loc[(df[\"zone_in\"] == 4) | (df[\"zone_in\"] == 5)]\n",
    "    \n",
    "    dataset_rows = []\n",
    "    for cls, count in df_out.groupby(by=[\"class\"], as_index=False)[\"count\"].sum().values:\n",
    "        dataset_rows.append((time_stamp,0,1,cls,count))\n",
    "    for cls, count in df_in.groupby(by=[\"class\"], as_index=False)[\"count\"].sum().values:\n",
    "        dataset_rows.append((time_stamp,1,0,cls,count))\n",
    "\n",
    "    unseen_loc_df = pd.DataFrame(dataset_rows, columns=[\"time_stamp\", \"zone_in\", \"zone_out\", \"class\", \"count\"])\n",
    "    return unseen_loc_df"
   ]
  },
  {
   "cell_type": "code",
   "execution_count": 21,
   "metadata": {},
   "outputs": [],
   "source": [
    "def generate_for_unseen(dir_path: str, dest_loc: str, src_loc: str) -> None:\n",
    "    \"\"\"\n",
    "    Generate expected counts for an unseen location based on the counts of vehicles entering and leaving a camera id.\n",
    "\n",
    "    Parameters:\n",
    "    dir_path (str): The path to the directory containing the mobility data.\n",
    "    dest_loc (str): The name of the unseen location.\n",
    "    src_loc (str): The name of the source location.\n",
    "\n",
    "    Returns:\n",
    "    None\n",
    "    \"\"\"\n",
    "    cnt = 0\n",
    "    for i, subdir in enumerate(sorted(os.listdir(dir_path))):\n",
    "        print(\"In\",subdir)\n",
    "        cnt = 0\n",
    "        for j, file in enumerate(sorted(os.listdir(dir_path / subdir))):\n",
    "            if file.endswith(\".csv\") and file.count(src_loc) == 1:\n",
    "                unseen_loc_df = generate_for_datetime(dir_path / subdir / file)\n",
    "                unseen_loc_df.to_csv(dir_path / subdir / file.replace(src_loc, dest_loc), index=False)\n",
    "                cnt += 1\n",
    "        print(f\"{cnt+1} files processed\")\n",
    "        "
   ]
  },
  {
   "cell_type": "code",
   "execution_count": 22,
   "metadata": {},
   "outputs": [],
   "source": [
    "dir_path = Path(r\"D:\\cv_iitr\\bangalore_mobility_hackthon\\zones\\data\\bangaluru_mobility_counts_v2\")"
   ]
  },
  {
   "cell_type": "code",
   "execution_count": 23,
   "metadata": {},
   "outputs": [
    {
     "name": "stdout",
     "output_type": "stream",
     "text": [
      "In 2024-05-14\n",
      "12 files processed\n",
      "In 2024-05-15\n",
      "13 files processed\n",
      "In 2024-05-16\n",
      "13 files processed\n",
      "In 2024-05-17\n",
      "13 files processed\n",
      "In 2024-05-18\n",
      "13 files processed\n",
      "In 2024-05-19\n",
      "13 files processed\n",
      "In 2024-05-20\n",
      "13 files processed\n",
      "In 2024-05-21\n",
      "13 files processed\n",
      "In 2024-05-22\n",
      "13 files processed\n",
      "In 2024-05-23\n",
      "13 files processed\n",
      "In 2024-05-24\n",
      "13 files processed\n",
      "In 2024-05-25\n",
      "13 files processed\n",
      "In 2024-05-26\n",
      "13 files processed\n",
      "In 2024-05-27\n",
      "12 files processed\n",
      "In 2024-05-28\n",
      "13 files processed\n",
      "In 2024-05-29\n",
      "13 files processed\n",
      "In 2024-05-30\n",
      "13 files processed\n",
      "In 2024-05-31\n",
      "13 files processed\n",
      "In 2024-06-01\n",
      "13 files processed\n"
     ]
    }
   ],
   "source": [
    "dst_loc = \"Buddha_Vihara_Temple\"\n",
    "src_loc = \"Stn_HD_1\"\n",
    "unseen_loc_df = generate_for_unseen(dir_path, dst_loc, src_loc)"
   ]
  },
  {
   "cell_type": "markdown",
   "metadata": {},
   "source": [
    "## Sundaranagar_Entrance\n",
    "Expected counts are generated for this location based on vehicles entering and leaving camera id \"Mattikere_JN_FIX_2\""
   ]
  },
  {
   "cell_type": "code",
   "execution_count": 24,
   "metadata": {},
   "outputs": [],
   "source": [
    "def generate_for_datetime(df_path: str) -> pd.DataFrame:\n",
    "    \"\"\"\n",
    "    Generate a DataFrame containing counts for a specific datetime.\n",
    "\n",
    "    Parameters:\n",
    "    df_path (str): The path to the CSV file containing the mobility data.\n",
    "\n",
    "    Returns:\n",
    "    pd.DataFrame: A DataFrame containing the mobility counts for the specified datet time.\n",
    "    \"\"\"\n",
    "    df = pd.read_csv(df_path)\n",
    "    \n",
    "    # Handling some edge cases\n",
    "    if df.empty:\n",
    "        return None\n",
    "    try:\n",
    "        df[\"count\"] = df[\"count\"].astype(int)\n",
    "    except KeyError:\n",
    "        df.columns =[\"time_stamp\",\"zone_in\",\"zone_out\",\"class\",\"count\"]\n",
    "    time_stamp = df[\"time_stamp\"].iloc[0]\n",
    "    df_out = df.loc[(df[\"zone_out\"] == 0) | (df[\"zone_out\"] == 1)]\n",
    "    df_in = df.loc[(df[\"zone_in\"] == 0) | (df[\"zone_in\"] == 1)]\n",
    "    \n",
    "    dataset_rows = []\n",
    "    for cls, count in df_out.groupby(by=[\"class\"], as_index=False)[\"count\"].sum().values:\n",
    "        dataset_rows.append((time_stamp,0,1,cls,count))\n",
    "    for cls, count in df_in.groupby(by=[\"class\"], as_index=False)[\"count\"].sum().values:\n",
    "        dataset_rows.append((time_stamp,1,0,cls,count))\n",
    "\n",
    "    unseen_loc_df = pd.DataFrame(dataset_rows, columns=[\"time_stamp\", \"zone_in\", \"zone_out\", \"class\", \"count\"])\n",
    "    return unseen_loc_df"
   ]
  },
  {
   "cell_type": "code",
   "execution_count": 25,
   "metadata": {},
   "outputs": [],
   "source": [
    "def generate_for_unseen(dir_path: str, dest_loc: str, src_loc: str) -> None:\n",
    "    \"\"\"\n",
    "    Generate expected counts for an unseen location based on the counts of vehicles entering and leaving a camera id.\n",
    "\n",
    "    Parameters:\n",
    "    dir_path (str): The path to the directory containing the mobility data.\n",
    "    dest_loc (str): The name of the unseen location.\n",
    "    src_loc (str): The name of the source location.\n",
    "\n",
    "    Returns:\n",
    "    None\n",
    "    \"\"\"\n",
    "    cnt = 0\n",
    "    for i, subdir in enumerate(sorted(os.listdir(dir_path))):\n",
    "        print(\"In\",subdir)\n",
    "        cnt = 0\n",
    "        for j, file in enumerate(sorted(os.listdir(dir_path / subdir))):\n",
    "            if file.endswith(\".csv\") and file.count(src_loc) == 1:\n",
    "                unseen_loc_df = generate_for_datetime(dir_path / subdir / file)\n",
    "                if unseen_loc_df is None:\n",
    "                    continue\n",
    "                unseen_loc_df.to_csv(dir_path / subdir / file.replace(src_loc, dest_loc), index=False)\n",
    "                cnt += 1\n",
    "        print(f\"{cnt} files processed\")\n",
    "    \n",
    "                "
   ]
  },
  {
   "cell_type": "code",
   "execution_count": 26,
   "metadata": {},
   "outputs": [],
   "source": [
    "dir_path = Path(r\"D:\\cv_iitr\\bangalore_mobility_hackthon\\zones\\data\\bangaluru_mobility_counts_v2\")"
   ]
  },
  {
   "cell_type": "code",
   "execution_count": 27,
   "metadata": {},
   "outputs": [
    {
     "name": "stdout",
     "output_type": "stream",
     "text": [
      "In 2024-05-14\n",
      "11 files processed\n",
      "In 2024-05-15\n",
      "3 files processed\n",
      "In 2024-05-16\n",
      "12 files processed\n",
      "In 2024-05-17\n",
      "12 files processed\n",
      "In 2024-05-18\n",
      "12 files processed\n",
      "In 2024-05-19\n",
      "8 files processed\n",
      "In 2024-05-20\n",
      "13 files processed\n",
      "In 2024-05-21\n",
      "10 files processed\n",
      "In 2024-05-22\n",
      "12 files processed\n",
      "In 2024-05-23\n",
      "12 files processed\n",
      "In 2024-05-24\n",
      "12 files processed\n",
      "In 2024-05-25\n",
      "12 files processed\n",
      "In 2024-05-26\n",
      "12 files processed\n",
      "In 2024-05-27\n",
      "12 files processed\n",
      "In 2024-05-28\n",
      "12 files processed\n",
      "In 2024-05-29\n",
      "3 files processed\n",
      "In 2024-05-30\n",
      "4 files processed\n",
      "In 2024-05-31\n",
      "8 files processed\n",
      "In 2024-06-01\n",
      "2 files processed\n"
     ]
    }
   ],
   "source": [
    "src_loc = \"Mattikere_JN_FIX_2\"\n",
    "dest_loc = \"Sundaranagar_Entrance\"\n",
    "unseen_loc_df = generate_for_unseen(dir_path, dest_loc, src_loc)"
   ]
  },
  {
   "cell_type": "markdown",
   "metadata": {},
   "source": [
    "## 80ft_Road\n",
    "Expected counts are generated for this location based on vehicles entering and leaving camera id \"MS_Ramaiah_JN_FIX_1\" and \"MS_Ramaiah_JN_FIX_2\" respectively."
   ]
  },
  {
   "cell_type": "code",
   "execution_count": 28,
   "metadata": {},
   "outputs": [],
   "source": [
    "def generate_for_datetime(dir_path, subdir, src_loc_1_file, src_loc_2_file):\n",
    "    \"\"\"\n",
    "    Generate a DataFrame containing counts for a specific datetime.\n",
    "\n",
    "    Parameters:\n",
    "    df_path (str): The path to the CSV file containing the mobility data.\n",
    "\n",
    "    Returns:\n",
    "    pd.DataFrame: A DataFrame containing the mobility counts for the specified datet time.\n",
    "    \"\"\"\n",
    "    df_loc_1 = pd.read_csv(dir_path / subdir / src_loc_1_file)\n",
    "    df_loc_2 = pd.read_csv(dir_path / subdir / src_loc_2_file)\n",
    "    \n",
    "    # Handling some edge cases\n",
    "    if df_loc_1.empty or df_loc_2.empty:\n",
    "        return None\n",
    "    try:\n",
    "        df_loc_1[\"count\"] = df_loc_1[\"count\"].astype(int)\n",
    "    except KeyError:\n",
    "        df_loc_1.columns =[\"time_stamp\",\"zone_in\",\"zone_out\",\"class\",\"count\"]\n",
    "    try:\n",
    "        df_loc_2[\"count\"] = df_loc_2[\"count\"].astype(int)\n",
    "    except KeyError:\n",
    "        df_loc_2.columns =[\"time_stamp\",\"zone_in\",\"zone_out\",\"class\",\"count\"]\n",
    "        \n",
    "    time_stamp = df_loc_1[\"time_stamp\"].iloc[0]\n",
    "    \n",
    "    df_out = df_loc_2.loc[(df_loc_2[\"zone_out\"] == 6)]\n",
    "    df_in = df_loc_1.loc[(df_loc_1[\"zone_in\"] == 0)]\n",
    "    \n",
    "    dataset_rows = []\n",
    "    \n",
    "    for cls, count in df_out.groupby(by=[\"class\"], as_index=False)[\"count\"].sum().values:\n",
    "        dataset_rows.append((time_stamp,0,1,cls,count))\n",
    "    \n",
    "    for cls, count in df_in.groupby(by=[\"class\"], as_index=False)[\"count\"].sum().values:\n",
    "        dataset_rows.append((time_stamp,1,0,cls,count))\n",
    "\n",
    "    unseen_loc_df = pd.DataFrame(dataset_rows, columns=[\"time_stamp\", \"zone_in\", \"zone_out\", \"class\", \"count\"])\n",
    "    return unseen_loc_df\n",
    "        \n",
    "\n",
    "     "
   ]
  },
  {
   "cell_type": "code",
   "execution_count": 29,
   "metadata": {},
   "outputs": [],
   "source": [
    "def generate_for_unseen(dir_path, dest_loc, src_loc_1, src_loc_2):\n",
    "    \"\"\"\n",
    "    Generate expected counts for an unseen location based on the counts of vehicles entering and leaving two camera ids.\n",
    "\n",
    "    Parameters:\n",
    "    dir_path (str): The path to the directory containing the mobility data.\n",
    "    dest_loc (str): The name of the unseen location.\n",
    "    src_loc (str): The name of the source location.\n",
    "\n",
    "    Returns:\n",
    "    None\n",
    "    \"\"\"\n",
    "    for i, subdir in enumerate(sorted(os.listdir(dir_path))):\n",
    "        print(\"In\",subdir)\n",
    "        src_files_loc_1 = dict()\n",
    "        src_files_loc_2 = dict()\n",
    "        cnt = 0\n",
    "        for j, file in enumerate(sorted(os.listdir(dir_path / subdir))):\n",
    "            if file.endswith(\".csv\"):\n",
    "                if file.count(src_loc_1) == 1:\n",
    "                    time = file.split(\"time\")[-1]\n",
    "                    src_files_loc_1[time] = file\n",
    "                elif file.count(src_loc_2) == 1:\n",
    "                    time = file.split(\"time\")[-1]\n",
    "                    src_files_loc_2[time] = file\n",
    "        \n",
    "        # Make sure both the camera ids have the extracted counts for the same time\n",
    "        for time in src_files_loc_1.keys():\n",
    "            if time in src_files_loc_2:\n",
    "                unseen_loc_df = generate_for_datetime(dir_path, subdir, src_files_loc_1[time], src_files_loc_2[time])\n",
    "                \n",
    "                if unseen_loc_df is None:\n",
    "                    continue\n",
    "                unseen_loc_df.to_csv(dir_path / subdir / src_files_loc_1[time].replace(src_loc_1, dest_loc), index=False)\n",
    "                cnt += 1\n",
    "        print(f\"{cnt} files processed\")\n",
    "    \n",
    "                "
   ]
  },
  {
   "cell_type": "code",
   "execution_count": 30,
   "metadata": {},
   "outputs": [],
   "source": [
    "dir_path = Path(r\"D:\\cv_iitr\\bangalore_mobility_hackthon\\zones\\data\\bangaluru_mobility_counts_v2\")"
   ]
  },
  {
   "cell_type": "code",
   "execution_count": 31,
   "metadata": {},
   "outputs": [
    {
     "name": "stdout",
     "output_type": "stream",
     "text": [
      "In 2024-05-14\n",
      "8 files processed\n",
      "In 2024-05-15\n",
      "12 files processed\n",
      "In 2024-05-16\n",
      "12 files processed\n",
      "In 2024-05-17\n",
      "12 files processed\n",
      "In 2024-05-18\n",
      "12 files processed\n",
      "In 2024-05-19\n",
      "12 files processed\n",
      "In 2024-05-20\n",
      "3 files processed\n",
      "In 2024-05-21\n",
      "0 files processed\n",
      "In 2024-05-22\n",
      "11 files processed\n",
      "In 2024-05-23\n",
      "12 files processed\n",
      "In 2024-05-24\n",
      "12 files processed\n",
      "In 2024-05-25\n",
      "0 files processed\n",
      "In 2024-05-26\n",
      "0 files processed\n",
      "In 2024-05-27\n",
      "12 files processed\n",
      "In 2024-05-28\n",
      "12 files processed\n",
      "In 2024-05-29\n",
      "13 files processed\n",
      "In 2024-05-30\n",
      "0 files processed\n",
      "In 2024-05-31\n",
      "12 files processed\n",
      "In 2024-06-01\n",
      "13 files processed\n"
     ]
    }
   ],
   "source": [
    "src_loc_1 = \"MS_Ramaiah_JN_FIX_1\"\n",
    "src_loc_2 = \"MS_Ramaiah_JN_FIX_2\"\n",
    "dest_loc = \"80ft_Road\"\n",
    "unseen_loc_df = generate_for_unseen(dir_path, dest_loc, src_loc_1, src_loc_2)"
   ]
  }
 ],
 "metadata": {
  "kernelspec": {
   "display_name": "Python 3",
   "language": "python",
   "name": "python3"
  },
  "language_info": {
   "codemirror_mode": {
    "name": "ipython",
    "version": 3
   },
   "file_extension": ".py",
   "mimetype": "text/x-python",
   "name": "python",
   "nbconvert_exporter": "python",
   "pygments_lexer": "ipython3",
   "version": "3.10.5"
  }
 },
 "nbformat": 4,
 "nbformat_minor": 2
}
